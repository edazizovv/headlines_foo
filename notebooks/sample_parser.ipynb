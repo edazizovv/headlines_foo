{
 "cells": [
  {
   "cell_type": "code",
   "execution_count": 1,
   "id": "fe678e37",
   "metadata": {},
   "outputs": [],
   "source": [
    "from selenium import webdriver\n",
    "from bs4 import BeautifulSoup\n",
    "from selenium.webdriver.common.by import By\n",
    "import time\n",
    "from selenium.common.exceptions import NoSuchElementException\n",
    "import json"
   ]
  },
  {
   "cell_type": "code",
   "execution_count": 2,
   "id": "ab83aef0",
   "metadata": {},
   "outputs": [],
   "source": [
    "driver = webdriver.Firefox()"
   ]
  },
  {
   "cell_type": "code",
   "execution_count": null,
   "id": "b9fbd02f",
   "metadata": {},
   "outputs": [],
   "source": []
  },
  {
   "cell_type": "code",
   "execution_count": 3,
   "id": "8ece7803",
   "metadata": {},
   "outputs": [],
   "source": [
    "driver.get('https://www.newsnow.co.uk/h/Sport/Football?type=ln')\n",
    "html = driver.page_source"
   ]
  },
  {
   "cell_type": "code",
   "execution_count": 4,
   "id": "9f8f80a2",
   "metadata": {},
   "outputs": [],
   "source": [
    "soup = BeautifulSoup(html)\n"
   ]
  },
  {
   "cell_type": "code",
   "execution_count": 5,
   "id": "59cb3a2f",
   "metadata": {},
   "outputs": [
    {
     "name": "stdout",
     "output_type": "stream",
     "text": [
      "‘A tragedy beyond comprehension' - Infantino responds to stadium disaster in Indonesia\n",
      "Robert Snodgrass on how Rangers can silence Liverpool at Anfield - the toughest venue in…\n",
      "Aaron Ramsdale says Arsenal have ‘fire burning inside’ after last season\n",
      "Serie A Highlights: Juventus 3-0 Bologna\n",
      "Madrid’s perfect season ends as Benzema misses penalty kick\n",
      "Sports agenda: Leeds Rhinos coach Rohan Smith is entertained by Jesse Marsch after Grand Final…\n",
      "Benzema misses from the spot as Madrid finally drop points this season\n",
      "\"That was good\" - Capital gains satisfaction for Gio\n",
      "Juventus vs Bologna Player Ratings: Vlahovic Rediscovers his Touch\n",
      "Massimiliano Allegri Demands Simplicity From His Juventus Side\n",
      "Juventus vs Bologna 3-0: The Bianconeri’s Resurrection\n",
      "Ronaldo spared as Man United humiliated by rampant City\n",
      "Kostić: \"So happy to score my first goal\n",
      "Pierre-Emerick Aubameyang on training with Ronaldo ahead of AC Milan reunion\n",
      "Apologetic Reo Hatate opens up on Celtic 'sorry' Callum McGregor discussions after Motherwell…\n",
      "Dave King makes Ibrox v Anfield call as Rangers gear up for 'dream' Champions League clash with …\n",
      "Dave King sets out Rangers silverware target and details benefit of European campaign\n",
      "Celtic are 'human' and taking risks 'frustrates' Ange Postecoglou's team, insists Paul McGinn\n",
      "Steve Cooper stance on 'evolving' Nottingham Forest playing style as boss makes promise\n",
      "Message: Unable to locate element: /html/body\n",
      "Stacktrace:\n",
      "RemoteError@chrome://remote/content/shared/RemoteError.jsm:12:1\n",
      "WebDriverError@chrome://remote/content/shared/webdriver/Errors.jsm:192:5\n",
      "NoSuchElementError@chrome://remote/content/shared/webdriver/Errors.jsm:404:5\n",
      "element.find/</<@chrome://remote/content/marionette/element.js:291:16\n",
      "\n",
      "Gary Neville names three players who have changed Manchester United this season\n",
      "Brendan Rodgers strongly backs Danny Ward with struggling Leicester City keeper set to keep spot\n",
      "Message: Unable to locate element: /html/body\n",
      "Stacktrace:\n",
      "RemoteError@chrome://remote/content/shared/RemoteError.jsm:12:1\n",
      "WebDriverError@chrome://remote/content/shared/webdriver/Errors.jsm:192:5\n",
      "NoSuchElementError@chrome://remote/content/shared/webdriver/Errors.jsm:404:5\n",
      "element.find/</<@chrome://remote/content/marionette/element.js:291:16\n",
      "\n",
      "Juventus 3 - Bologna 0: Initial reaction and random observations\n",
      "Newcastle prosper as reality bites for depleted Fulham\n",
      "Brendan Rodgers admits \"the heat is on\" as he pledges to stick to same tactics\n",
      "Message: Unable to locate element: /html/body\n",
      "Stacktrace:\n",
      "RemoteError@chrome://remote/content/shared/RemoteError.jsm:12:1\n",
      "WebDriverError@chrome://remote/content/shared/webdriver/Errors.jsm:192:5\n",
      "NoSuchElementError@chrome://remote/content/shared/webdriver/Errors.jsm:404:5\n",
      "element.find/</<@chrome://remote/content/marionette/element.js:291:16\n",
      "\n",
      "Aaron Ramsdale provides insight on Arsenal dressing room amid Premier League title talk\n",
      "Mikel Arteta addresses Arsenal expectations after Tottenham win launches title challenge\n",
      "Hugo Lloris sends warning to Tottenham teammates after his mistake in Arsenal loss\n",
      "Thiago Motta: ‘Juve deserved victory over Bologna’\n",
      "Steve Cooper and Brendan Rodgers must fight for survival as Leicester face Nottingham Forest\n",
      "It's sad that Nottingham Forest's £150m spending spree could cost Steve Cooper his job\n",
      "Gary Neville accuses Manchester United players of not turning up for derby\n",
      "Gary O'Neil wins squad support with Solanke and Zemura backing him to be permanent Bournemouth…\n",
      "England World Cup watch: Good for Phil Foden and Jarrod Bowen, but bad for Trent…\n",
      "Aubameyang lifts the lid on the lessons he learned from Brazil legend Ronaldo as a Milan…\n",
      "Arsenal must cash in on dream start and tie down Bukayo Saka, William Saliba and Gabriel…\n",
      "Eddie Howe heaps praise on main man Callum Wilson after the striker scores on his return\n",
      "Leandro Trossard delivers on his new manager's wish immediately with hat-trick away at Liverpool\n",
      "Damaging Arsenal defeat gives chastening reminder of Spurs' limitations under Antonio Conte\n",
      "Gerrard replies to Marsch's claims after Leeds boss claimed Villa wasted 90 minutes 'of our…\n",
      "Jurgen Klopp faces a battle he thought he had overcome to try and get the Liverpool faithful…\n",
      "Frank Lampard insists there's more to come from his side after Everton's 2-1 win at Southampton\n",
      "Loftus-Cheek hails Gallagher for seizing his Chelsea moment\n",
      "Ramsdale: There’s a fire burning inside this Arsenal squad\n",
      "Conor Gallagher will get chance to stake World Cup claims – Graham Potter\n",
      "I know the heat is on – Brendan Rodgers relishing derby battle with Forest\n",
      "Aubameyang recalls learning from ‘a bit fat’ Ronaldo at AC Milan\n",
      "Lloris: Tottenham must use derby defeat pain as fuel against Frankfurt\n",
      "Football Daily podcast: Man City hat-trick heroes humiliate Man Utd\n",
      "Kent And Davies To Face Their Former Club? | Predicted 4-2-3-1 Rangers Lineup To Face Liverpool\n",
      "Real Madrid president still eyeing Super League\n",
      "Real Madrid’s winning streak broken by Osasuna draw\n",
      "Aurelien Tchouameni has no interest in being the ‘new’ Paul Pogba\n",
      "Atalanta Hero Lookman Thrilled for Opening Bergamo Account\n",
      "Rival watch: Real Madrid drop points against Osasuna, Barcelona go top of La Liga\n",
      "Steven Gerrard's influencer daughter Lilly-Ella 'finds love with Irish mob boss Liam Byrne's…\n",
      "Revealed! How NDLEA nabbed ex-footballer, 2 Malians, others\n",
      "Player Ratings: Real Madrid 1 - 1 Osasuna; 2022 La Liga\n",
      "Vinicius Jr. Gets 8.5, Lunin With 6 | Real Madrid Players Rated In Frustrating Draw Vs Osasuna\n",
      "Patriots QB Brian Hoyer leaves with head injury, Zappe in\n",
      "Message: Unable to locate element: /html/body\n",
      "Stacktrace:\n",
      "RemoteError@chrome://remote/content/shared/RemoteError.jsm:12:1\n",
      "WebDriverError@chrome://remote/content/shared/webdriver/Errors.jsm:192:5\n",
      "NoSuchElementError@chrome://remote/content/shared/webdriver/Errors.jsm:404:5\n",
      "element.find/</<@chrome://remote/content/marionette/element.js:291:16\n",
      "\n",
      "Real Madrid drop points at home to Osasuna, surrender top spot to Barcelona\n",
      "Manchester City played digital football. United are a dial-up version\n",
      "Message: Unable to locate element: /html/body\n",
      "Stacktrace:\n",
      "RemoteError@chrome://remote/content/shared/RemoteError.jsm:12:1\n",
      "WebDriverError@chrome://remote/content/shared/webdriver/Errors.jsm:192:5\n",
      "NoSuchElementError@chrome://remote/content/shared/webdriver/Errors.jsm:404:5\n",
      "element.find/</<@chrome://remote/content/marionette/element.js:291:16\n",
      "\n",
      "Madrid drop first points as Benzema spurns penalty against Osasuna\n",
      "Newcastle talent who has come on 'leaps and bounds' and is 'knocking on door' for first team\n",
      "\"Including Tottenham\" – Journalist now drops intriguing Spurs transfer claim involving £50m star\n",
      "\"People in the new ownership group...\" - Journalist now drops big Chelsea claim on £150m target\n",
      "Keith Downie now drops intriguing Bruno Guimaraes and Jonjo Shelvey theory at Newcastle\n",
      "Real Madrid held by Osasuna as winning run ends\n",
      "Juve Collect A 3-0 Win Over Bologna To Kick Start Season\n",
      "Man United icon Roy Keane launches Lisandro Martinez defence but admits he ‘will be found out…\n",
      "Three answers and three questions from Real Madrid’s draw with Osasuna\n",
      "Immediate Reaction: Real Madrid 1-1 Osasuna\n",
      "Ben Yedder nets hat trick as Monaco routs Nantes 4-1\n",
      "Pep Guardiola mural defaced for second time in a week as Man Utd red splashed over art\n",
      "'He has to be here': Rodri calls for 'perfect' Manchester City figure to stay amid rumours\n",
      "Real Madrid 1-1 Osasuna: Player ratings as Benzema misses penalty in draw\n",
      "Allegri: ‘One step at a time for Juventus’\n",
      "SoM Prediction League: Round 11\n",
      "Transfer insider: Man Utd could land \"bargain\" signing for Ten Hag in £83m star\n",
      "\"A situation Leeds will look at” – Sky Sports reporter drops verdict on \"incredible\" 6 ft 4 star\n",
      "Erling Haaland has \"directly told\" £83m star to join him at Manchester City - journalist\n",
      "\"Very much open to the move\" - Journalist now says £25m Arsenal target's \"head has been turned\"\n",
      "Keane and Richards clash in fiery debate about Ronaldo after Manchester derby\n",
      "Message: Unable to locate element: /html/body\n",
      "Stacktrace:\n",
      "RemoteError@chrome://remote/content/shared/RemoteError.jsm:12:1\n",
      "WebDriverError@chrome://remote/content/shared/webdriver/Errors.jsm:192:5\n",
      "NoSuchElementError@chrome://remote/content/shared/webdriver/Errors.jsm:404:5\n",
      "element.find/</<@chrome://remote/content/marionette/element.js:291:16\n",
      "\n",
      "Across the Romaverse Podcast, #105: Roma Exorcises San Siro Demons\n"
     ]
    },
    {
     "name": "stdout",
     "output_type": "stream",
     "text": [
      "Loan report – Folarin Balogun scores again; Harry Clarke back in action for Stoke; Arthur…\n",
      "Message: Unable to locate element: /html/body\n",
      "Stacktrace:\n",
      "RemoteError@chrome://remote/content/shared/RemoteError.jsm:12:1\n",
      "WebDriverError@chrome://remote/content/shared/webdriver/Errors.jsm:192:5\n",
      "NoSuchElementError@chrome://remote/content/shared/webdriver/Errors.jsm:404:5\n",
      "element.find/</<@chrome://remote/content/marionette/element.js:291:16\n",
      "\n",
      "Real Madrid 1-1 Osasuna: Kike Garcia's goal hands champions their first slip-up of the season\n",
      "Salford Red Devils' Kallum Watkins ready to put 2017 England nightmare to bed\n",
      "Albian Ajeti in cautious Celtic loan admission as Sturm Graz striker plots 'slow' career jump…\n",
      "Jamal Musiala: MD8's Man of the Matchday\n",
      "Kostic hopes to ‘repay’ Vlahovic for Juventus assist\n",
      "Romelu Lukaku ruled out of Inter Milan v Barcelona\n",
      "'Probably' - Journalist drops interesting claim as Orta eyes 'top player' for Leeds\n",
      "Jesse Marsch absolutely rips into Aston Villa for timewasting tactics after 'snail-paced' game\n",
      "ICSS joins forces with Project Partners to launch project to support young refugees in Europe\n",
      "Message: Unable to locate element: /html/body\n",
      "Stacktrace:\n",
      "RemoteError@chrome://remote/content/shared/RemoteError.jsm:12:1\n",
      "WebDriverError@chrome://remote/content/shared/webdriver/Errors.jsm:192:5\n",
      "NoSuchElementError@chrome://remote/content/shared/webdriver/Errors.jsm:404:5\n",
      "element.find/</<@chrome://remote/content/marionette/element.js:291:16\n",
      "\n",
      "Lazio stroll past Spezia, Sassuolo cruise in first match with woman referee\n",
      "Watch: Mourinho breaks the internet with hilarious footage from Roma's team bus after Inter win\n",
      "Message: Unable to locate element: /html/body\n",
      "Stacktrace:\n",
      "RemoteError@chrome://remote/content/shared/RemoteError.jsm:12:1\n",
      "WebDriverError@chrome://remote/content/shared/webdriver/Errors.jsm:192:5\n",
      "NoSuchElementError@chrome://remote/content/shared/webdriver/Errors.jsm:404:5\n",
      "element.find/</<@chrome://remote/content/marionette/element.js:291:16\n",
      "\n",
      "Ten Hag says Manchester United folded like a ‘pack of cards’ in derby defeat\n",
      "Piers Morgan lays into Erik ten Hag branding Man Utd boss an \"arrogant, deluded twerp\"\n",
      "Tyler Adams's Philippe Coutinho spat, Steven Gerrard lashes out and Leeds United moments missed\n",
      "Message: Unable to locate element: /html/body\n",
      "Stacktrace:\n",
      "RemoteError@chrome://remote/content/shared/RemoteError.jsm:12:1\n",
      "WebDriverError@chrome://remote/content/shared/webdriver/Errors.jsm:192:5\n",
      "NoSuchElementError@chrome://remote/content/shared/webdriver/Errors.jsm:404:5\n",
      "element.find/</<@chrome://remote/content/marionette/element.js:291:16\n",
      "\n",
      "Serie A | Juventus 3-0 Bologna: Old Lady reborn\n",
      "Valencia snatch bad tempered 2-2 draw at Espanyol as Celta Vigo edge out Real Betis\n",
      "New exhibition highlights milestones in football World Cup history\n",
      "Juventus 3-0 Bologna: Massimiliano Allegri's side return to winning ways\n",
      "Perez still pushing Super League to aid 'sick' football\n",
      "Bavarian Fashion Works: Who wore it better — FC Bayern or 1860?\n",
      "Garang Kuol endears himself to Newcastle fans with an away-end visit\n",
      "'A million times': Coady says prior to joining Everton he told Toffees star he's 'incredible'\n",
      "Highlights: Bradford City Women (A)\n",
      "'They have shown him nothing but disrespect' - Roy Keane blasts Man United over Cristiano…\n",
      "CAF re-opens bids for TotalEnergies AFCON 2025\n",
      "Barcelona loanee yet to play a single minute for Italian side, undergoing ‘period of adaption’\n",
      "Watch: Illan Meslier chats to LUTV\n",
      "Watch: Jesse Marsch on Villa draw\n",
      "Watch: Patrick Bamford gives Aston Villa reaction\n",
      "Video: Milik stunner breaks Juventus taboo\n",
      "Schmeichel benched by Nice and Fuchs is an MLS cult hero - where Leicester's title winners are…\n",
      "Message: Unable to locate element: /html/body\n",
      "Stacktrace:\n",
      "RemoteError@chrome://remote/content/shared/RemoteError.jsm:12:1\n",
      "WebDriverError@chrome://remote/content/shared/webdriver/Errors.jsm:192:5\n",
      "NoSuchElementError@chrome://remote/content/shared/webdriver/Errors.jsm:404:5\n",
      "element.find/</<@chrome://remote/content/marionette/element.js:291:16\n",
      "\n"
     ]
    }
   ],
   "source": [
    "aa = soup.find_all('div', {'class': 'split_in'})[0]\n",
    "\n",
    "data = {}\n",
    "for tag in aa.find_all('a', {'class': 'hll'}):\n",
    "    print(tag.text)\n",
    "\n",
    "    # driver.find_element(By.XPATH, '//button[text()=\"Some text\"]')\n",
    "    # driver.find_element_by_xpath('//a[@href=\"'+url+'\"]')\n",
    "    item = driver.find_element(By.XPATH, '//a[@href=\"'+tag['href']+'\"]')\n",
    "    driver.execute_script(\"arguments[0].click();\", item)\n",
    "    # WebDriverWait(driver, 5)\n",
    "    time.sleep(5)\n",
    "    c = driver.window_handles[1]\n",
    "    driver.switch_to.window(c)\n",
    "    try:\n",
    "        huge_text = driver.find_element(By.XPATH, \"/html/body\").text\n",
    "        data[tag.text] = huge_text\n",
    "    except NoSuchElementException as e:\n",
    "        print(e)\n",
    "    driver.close()\n",
    "    \n",
    "    c = driver.window_handles[0]\n",
    "    driver.switch_to.window(c)"
   ]
  },
  {
   "cell_type": "code",
   "execution_count": 6,
   "id": "bf8aabc5",
   "metadata": {},
   "outputs": [],
   "source": [
    "try:\n",
    "    import cPickle as pickle\n",
    "except ImportError:  # Python 3.x\n",
    "    import pickle\n",
    "\n",
    "with open('data.p', 'wb') as fp:\n",
    "    pickle.dump(data, fp, protocol=pickle.HIGHEST_PROTOCOL)"
   ]
  },
  {
   "cell_type": "code",
   "execution_count": 10,
   "id": "c93503ad",
   "metadata": {},
   "outputs": [
    {
     "data": {
      "text/plain": [
       "\"‘A tragedy beyond comprehension' - Infantino responds to stadium disaster in Indonesia\""
      ]
     },
     "execution_count": 10,
     "metadata": {},
     "output_type": "execute_result"
    }
   ],
   "source": [
    "list(data.keys())[0]"
   ]
  },
  {
   "cell_type": "code",
   "execution_count": 8,
   "id": "43963da9",
   "metadata": {},
   "outputs": [
    {
     "data": {
      "text/plain": [
       "'VIDEO\\nRESULTS\\nFOOTBALL\\nCYCLING\\nTENNIS\\nALL SPORTS\\nSIGN IN\\nVIDEO\\nLIVE & SCHEDULE\\nLATEST VIDEOS\\nSHOWS\\nBY SPORT\\nADVERTISEMENT\\nAd\\n15\\n15\\n‘A tragedy beyond comprehension\\' - FIFA president Gianni Infantino responds to stadium disaster in Indonesia\\n00:00 / 00:00\\nFOOTBALL\\n‘A TRAGEDY BEYOND COMPREHENSION\\' - FIFA PRESIDENT GIANNI INFANTINO RESPONDS TO STADIUM DISASTER IN INDONESIA\\nFIFA President Gianni Infantino paid tribute on Sunday to those who lost their lives at Kanjuruhan Stadium in Malang, Indonesia a day earlier. Infantino called the deaths at the stadium \"a dark day for all involved in football and a tragedy beyond comprehension\", while President Joko Widodo ordered an investigation of the security procedures in the stadium.\\n00:01:12, 7 MINUTES AGO\\nWHAT\\'S ON\\nPREMIUM\\n*\\nEUROSPORT NEWS\\nDeutscher Kommentar\\nON NOW\\nPREMIUM\\nGOLF\\nGOLF\\nTag 4, ,\\nLIVE\\nPREMIUM\\nGOLF\\nMISSISSIPPI CHAMPIONSHIP\\nLIVE\\nRELATED\\nFOOTBALL\\n‘A TRAGEDY BEYOND COMPREHENSION\\' - INFANTINO RESPONDS TO STADIUM DISASTER IN INDONESIA\\n00:01:12\\nFOOTBALL\\nTEN HAG BLAMES \\'LACK OF BELIEF\\' FOR THRASHING IN MANCHESTER DERBY\\n00:01:27\\nFOOTBALL\\nTEN HAG SAYS UNITED LACKED \\'BELIEF\\' AS HE EXPLAINS HE DID NOT PLAY RONALDO \\'OUT OF RESPECT\\'\\n00:02:01\\nFOOTBALL\\n‘I DIDN’T TEACH HIM’ - GUARDIOLA PAYS TRIBUTE TO HAALAND AFTER HAT-TRICK IN MANCHESTER DERBY\\n00:01:40\\nMORE FOOTBALL\\nFOOTBALL\\n‘A TRAGEDY BEYOND COMPREHENSION\\' - INFANTINO RESPONDS TO STADIUM DISASTER IN INDONESIA\\n00:01:12\\nFOOTBALL\\nTEN HAG BLAMES \\'LACK OF BELIEF\\' FOR THRASHING IN MANCHESTER DERBY\\n00:01:27\\nFOOTBALL\\nTEN HAG SAYS UNITED LACKED \\'BELIEF\\' AS HE EXPLAINS HE DID NOT PLAY RONALDO \\'OUT OF RESPECT\\'\\n00:02:01\\nFOOTBALL\\n‘I DIDN’T TEACH HIM’ - GUARDIOLA PAYS TRIBUTE TO HAALAND AFTER HAT-TRICK IN MANCHESTER DERBY\\n00:01:40\\nCHANGE VERSION:\\nUnited Kingdom\\nHELP CENTRE\\nFOOTBALL\\nQATAR WORLD CUP 2022\\nQATAR WORLD CUP FIXTURES AND RESULTS\\nQATAR WORLD CUP GROUPS AND STANDINGS\\nBALLON D\\'OR\\nPREMIER LEAGUE TABLE\\nPREMIER LEAGUE FIXTURES\\nCHAMPIONS LEAGE NEWS\\nABOUT US\\nABOUT EUROSPORT\\nMOBILE APPS\\nLEGAL INFORMATION\\nTERMS OF USE\\nPRIVACY POLICY\\nLEGAL INFORMATION\\nCOOKIES & TRACKING TECHNOLOGIES NOTICE\\nEUROSPORT PASS INFORMATION\\nMODERN SLAVERY STATEMENT\\nMORE\\nSNOOKER NEWS & RESULTS\\nWATCH SNOOKER LIVE STREAM\\nAUSTRALIAN OPEN NEWS\\nGOLF NEWS & RESULTS\\nFORMULA 1 NEWS\\nTRANSFER NEWS\\nUK CHAMPIONSHIP NEWS\\n© Eurosport, a Discovery Company 2022 – All rights reserved'"
      ]
     },
     "execution_count": 8,
     "metadata": {},
     "output_type": "execute_result"
    }
   ],
   "source": [
    "data[list(data.keys())[0]]"
   ]
  },
  {
   "cell_type": "code",
   "execution_count": null,
   "id": "3a0a4db3",
   "metadata": {},
   "outputs": [],
   "source": []
  },
  {
   "cell_type": "code",
   "execution_count": null,
   "id": "b7fb9f8b",
   "metadata": {},
   "outputs": [],
   "source": []
  },
  {
   "cell_type": "code",
   "execution_count": 218,
   "id": "16644ea3",
   "metadata": {},
   "outputs": [
    {
     "data": {
      "text/plain": [
       "<a class=\"hll\" href=\"https://c.newsnow.co.uk/A/1147509445?-833:12\" rel=\"nofollow\" target=\"_blank\">Ornsetin: Lage's future in doubt at Wolves</a>"
      ]
     },
     "execution_count": 218,
     "metadata": {},
     "output_type": "execute_result"
    }
   ],
   "source": [
    "tag = aa.find_all('a', {'class': 'hll'})[56]\n",
    "tag"
   ]
  },
  {
   "cell_type": "code",
   "execution_count": null,
   "id": "660b481b",
   "metadata": {},
   "outputs": [],
   "source": [
    "tag['href']"
   ]
  },
  {
   "cell_type": "code",
   "execution_count": 211,
   "id": "12121b5f",
   "metadata": {},
   "outputs": [
    {
     "data": {
      "text/plain": [
       "\"Ornsetin: Lage's future in doubt at Wolves\""
      ]
     },
     "execution_count": 211,
     "metadata": {},
     "output_type": "execute_result"
    }
   ],
   "source": [
    "list(data.keys())[54]"
   ]
  },
  {
   "cell_type": "code",
   "execution_count": 212,
   "id": "5ea4363b",
   "metadata": {},
   "outputs": [
    {
     "name": "stdout",
     "output_type": "stream",
     "text": [
      "NBCS-LOGO\n",
      "WATCH\n",
      "NFL\n",
      "NBA\n",
      "SOCCER\n",
      "NASCAR\n",
      "MOTORS\n",
      "GOLF\n",
      "CYCLING\n",
      "HORSES\n",
      "MLB\n",
      "OLY\n",
      "MORE\n",
      "LIVE AND UPCOMING FULL EVENT REPLAYS APPS\n",
      "SEARCH\n",
      "Video by Sport\n",
      "PREMIER LEAGUE 2022-23 MATCHWEEK 9\n",
      "Ornsetin: Lage's future in doubt at Wolves\n",
      "David Ornsetin reports that the Wolves board is set to meet to discuss manager Bruno Lage's future after a disappointing start to the Premier League season.\n",
      "PREMIER LEAGUE NEWS\n",
      "UP NEXT: PREMIER LEAGUE 2022-23 MATCHWEEK 9\n",
      "FOLLOW US Facebook Twitter Instagram NBC Sports Social Directory\n",
      "GET NEWSLETTERS & ALERTS\n",
      "SIGN UP\n",
      "SPORTS\n",
      "College Basketball\n",
      "College Football\n",
      "MLB\n",
      "NASCAR\n",
      "NBA\n",
      "NFL\n",
      "NHL\n",
      "Olympics\n",
      "Soccer\n",
      "MORE SPORTS\n",
      "Cycling\n",
      "Figure Skating\n",
      "Horse Racing\n",
      "MMA\n",
      "Motor Sports\n",
      "Rugby\n",
      "Tennis\n",
      "USFL\n",
      "FANTASY & BETTING\n",
      "MLB Fantasy\n",
      "NBA Fantasy\n",
      "NFL Fantasy\n",
      "NHL Fantasy\n",
      "NBC SPORTS APP\n",
      "NBC Sports Apple App Store\n",
      "NBC Sports Google Play\n",
      "STREAM & PODCAST\n",
      "Clips and Highlights\n",
      "Sports Podcasts\n",
      "Stream on Peacock\n",
      "Watch Live\n",
      "PEACOCK APP\n",
      "Peacock Apple App Store\n",
      "Peacock Google Play\n",
      "Ad Choices Advertise Privacy Policy Cookie Notice CA Notice Closed Captioning Pressbox Sports Jobs Our History NBC Sports Terms of Use NBC Sports Live FAQ Sitemap\n",
      "©2022 NBC Universal\n"
     ]
    }
   ],
   "source": [
    "print(data[list(data.keys())[54]])"
   ]
  }
 ],
 "metadata": {
  "kernelspec": {
   "display_name": "Python 3 (ipykernel)",
   "language": "python",
   "name": "python3"
  },
  "language_info": {
   "codemirror_mode": {
    "name": "ipython",
    "version": 3
   },
   "file_extension": ".py",
   "mimetype": "text/x-python",
   "name": "python",
   "nbconvert_exporter": "python",
   "pygments_lexer": "ipython3",
   "version": "3.10.6"
  }
 },
 "nbformat": 4,
 "nbformat_minor": 5
}
